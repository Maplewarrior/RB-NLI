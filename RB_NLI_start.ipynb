{
  "nbformat": 4,
  "nbformat_minor": 0,
  "metadata": {
    "colab": {
      "provenance": [],
      "collapsed_sections": [],
      "authorship_tag": "ABX9TyNehbJFt2HeSswqFsu1Mrz0",
      "include_colab_link": true
    },
    "kernelspec": {
      "name": "python3",
      "display_name": "Python 3"
    },
    "language_info": {
      "name": "python"
    }
  },
  "cells": [
    {
      "cell_type": "markdown",
      "metadata": {
        "id": "view-in-github",
        "colab_type": "text"
      },
      "source": [
        "<a href=\"https://colab.research.google.com/github/Maplewarrior/RB-NLI/blob/main/RB_NLI_start.ipynb\" target=\"_parent\"><img src=\"https://colab.research.google.com/assets/colab-badge.svg\" alt=\"Open In Colab\"/></a>"
      ]
    },
    {
      "cell_type": "code",
      "execution_count": null,
      "metadata": {
        "id": "dThigwT8hiv6"
      },
      "outputs": [],
      "source": [
        "import os\n",
        "import numpy as np\n",
        "import pandas as pd"
      ]
    },
    {
      "cell_type": "code",
      "source": [
        "from google.colab import drive\n",
        "drive.mount('/content/drive')\n",
        "os.chdir(\"/content/drive/MyDrive/Uncertainty NLI\")"
      ],
      "metadata": {
        "colab": {
          "base_uri": "https://localhost:8080/"
        },
        "id": "xEMoZUVqhwoz",
        "outputId": "d5792650-6ca4-492b-c3e5-c463b72d0fb5"
      },
      "execution_count": null,
      "outputs": [
        {
          "output_type": "stream",
          "name": "stdout",
          "text": [
            "Drive already mounted at /content/drive; to attempt to forcibly remount, call drive.mount(\"/content/drive\", force_remount=True).\n"
          ]
        }
      ]
    },
    {
      "cell_type": "markdown",
      "source": [
        "### Import RBOAA dependencies"
      ],
      "metadata": {
        "id": "Y1lbJjsHjPg3"
      }
    },
    {
      "cell_type": "code",
      "source": [
        "os.chdir(\"/content/drive/MyDrive/Uncertainty NLI/RBOAA\")\n",
        "from RBOAA_class import _RBOAA\n",
        "os.chdir('/content/drive/MyDrive/Uncertainty NLI')"
      ],
      "metadata": {
        "id": "w40mXSgnh5DB"
      },
      "execution_count": null,
      "outputs": []
    },
    {
      "cell_type": "code",
      "source": [
        "chaosSNLI = pd.read_json(path_or_buf='/content/drive/MyDrive/Uncertainty NLI/data/chaosNLI_v1.0/chaosNLI_snli.jsonl', lines=True)\n",
        "chaosMNLI = pd.read_json(path_or_buf='/content/drive/MyDrive/Uncertainty NLI/data/chaosNLI_v1.0/chaosNLI_mnli_m.jsonl', lines=True)\n",
        "chaosANLI = pd.read_json(path_or_buf='/content/drive/MyDrive/Uncertainty NLI/data/chaosNLI_v1.0/chaosNLI_alphanli.jsonl', lines=True)\n"
      ],
      "metadata": {
        "id": "AA6XDIChih-f"
      },
      "execution_count": null,
      "outputs": []
    },
    {
      "cell_type": "code",
      "source": [
        "chaosSNLI.head()\n",
        "#print(chaosSNLI['example'][0])\n"
      ],
      "metadata": {
        "colab": {
          "base_uri": "https://localhost:8080/",
          "height": 337
        },
        "id": "zMeAJrJqi-LJ",
        "outputId": "f411124a-4755-4135-a88f-c37d83d981ca"
      },
      "execution_count": null,
      "outputs": [
        {
          "output_type": "execute_result",
          "data": {
            "text/plain": [
              "                   uid              label_counter majority_label  \\\n",
              "0  2407214681.jpg#0r1n         {'n': 70, 'e': 30}              n   \n",
              "1  4718146904.jpg#2r1n  {'n': 94, 'e': 3, 'c': 3}              n   \n",
              "2  3980085662.jpg#0r1e          {'e': 98, 'n': 2}              e   \n",
              "3    24467676.jpg#1r1e          {'e': 98, 'c': 2}              e   \n",
              "4  3667788497.jpg#0r1e                 {'e': 100}              e   \n",
              "\n",
              "                                       label_dist  label_count   entropy  \\\n",
              "0  [0.30000000000000004, 0.7000000000000001, 0.0]  [30, 70, 0]  0.881291   \n",
              "1                [0.03, 0.9400000000000001, 0.03]   [3, 94, 3]  0.387445   \n",
              "2                               [0.98, 0.02, 0.0]   [98, 2, 0]  0.141441   \n",
              "3                               [0.98, 0.0, 0.02]   [98, 0, 2]  0.141441   \n",
              "4                                 [1.0, 0.0, 0.0]  [100, 0, 0]  0.000000   \n",
              "\n",
              "                                             example old_label  \\\n",
              "0  {'uid': '2407214681.jpg#0r1n', 'premise': 'Two...         n   \n",
              "1  {'uid': '4718146904.jpg#2r1n', 'premise': 'A m...         n   \n",
              "2  {'uid': '3980085662.jpg#0r1e', 'premise': 'Two...         e   \n",
              "3  {'uid': '24467676.jpg#1r1e', 'premise': 'A man...         e   \n",
              "4  {'uid': '3667788497.jpg#0r1e', 'premise': 'Und...         e   \n",
              "\n",
              "                                          old_labels  \n",
              "0  [neutral, neutral, neutral, entailment, entail...  \n",
              "1  [neutral, entailment, entailment, neutral, neu...  \n",
              "2  [entailment, neutral, entailment, entailment, ...  \n",
              "3  [entailment, neutral, neutral, entailment, ent...  \n",
              "4  [entailment, neutral, entailment, neutral, ent...  "
            ],
            "text/html": [
              "\n",
              "  <div id=\"df-7ffe9acc-f8fc-4d97-877f-5fa7828fc1eb\">\n",
              "    <div class=\"colab-df-container\">\n",
              "      <div>\n",
              "<style scoped>\n",
              "    .dataframe tbody tr th:only-of-type {\n",
              "        vertical-align: middle;\n",
              "    }\n",
              "\n",
              "    .dataframe tbody tr th {\n",
              "        vertical-align: top;\n",
              "    }\n",
              "\n",
              "    .dataframe thead th {\n",
              "        text-align: right;\n",
              "    }\n",
              "</style>\n",
              "<table border=\"1\" class=\"dataframe\">\n",
              "  <thead>\n",
              "    <tr style=\"text-align: right;\">\n",
              "      <th></th>\n",
              "      <th>uid</th>\n",
              "      <th>label_counter</th>\n",
              "      <th>majority_label</th>\n",
              "      <th>label_dist</th>\n",
              "      <th>label_count</th>\n",
              "      <th>entropy</th>\n",
              "      <th>example</th>\n",
              "      <th>old_label</th>\n",
              "      <th>old_labels</th>\n",
              "    </tr>\n",
              "  </thead>\n",
              "  <tbody>\n",
              "    <tr>\n",
              "      <th>0</th>\n",
              "      <td>2407214681.jpg#0r1n</td>\n",
              "      <td>{'n': 70, 'e': 30}</td>\n",
              "      <td>n</td>\n",
              "      <td>[0.30000000000000004, 0.7000000000000001, 0.0]</td>\n",
              "      <td>[30, 70, 0]</td>\n",
              "      <td>0.881291</td>\n",
              "      <td>{'uid': '2407214681.jpg#0r1n', 'premise': 'Two...</td>\n",
              "      <td>n</td>\n",
              "      <td>[neutral, neutral, neutral, entailment, entail...</td>\n",
              "    </tr>\n",
              "    <tr>\n",
              "      <th>1</th>\n",
              "      <td>4718146904.jpg#2r1n</td>\n",
              "      <td>{'n': 94, 'e': 3, 'c': 3}</td>\n",
              "      <td>n</td>\n",
              "      <td>[0.03, 0.9400000000000001, 0.03]</td>\n",
              "      <td>[3, 94, 3]</td>\n",
              "      <td>0.387445</td>\n",
              "      <td>{'uid': '4718146904.jpg#2r1n', 'premise': 'A m...</td>\n",
              "      <td>n</td>\n",
              "      <td>[neutral, entailment, entailment, neutral, neu...</td>\n",
              "    </tr>\n",
              "    <tr>\n",
              "      <th>2</th>\n",
              "      <td>3980085662.jpg#0r1e</td>\n",
              "      <td>{'e': 98, 'n': 2}</td>\n",
              "      <td>e</td>\n",
              "      <td>[0.98, 0.02, 0.0]</td>\n",
              "      <td>[98, 2, 0]</td>\n",
              "      <td>0.141441</td>\n",
              "      <td>{'uid': '3980085662.jpg#0r1e', 'premise': 'Two...</td>\n",
              "      <td>e</td>\n",
              "      <td>[entailment, neutral, entailment, entailment, ...</td>\n",
              "    </tr>\n",
              "    <tr>\n",
              "      <th>3</th>\n",
              "      <td>24467676.jpg#1r1e</td>\n",
              "      <td>{'e': 98, 'c': 2}</td>\n",
              "      <td>e</td>\n",
              "      <td>[0.98, 0.0, 0.02]</td>\n",
              "      <td>[98, 0, 2]</td>\n",
              "      <td>0.141441</td>\n",
              "      <td>{'uid': '24467676.jpg#1r1e', 'premise': 'A man...</td>\n",
              "      <td>e</td>\n",
              "      <td>[entailment, neutral, neutral, entailment, ent...</td>\n",
              "    </tr>\n",
              "    <tr>\n",
              "      <th>4</th>\n",
              "      <td>3667788497.jpg#0r1e</td>\n",
              "      <td>{'e': 100}</td>\n",
              "      <td>e</td>\n",
              "      <td>[1.0, 0.0, 0.0]</td>\n",
              "      <td>[100, 0, 0]</td>\n",
              "      <td>0.000000</td>\n",
              "      <td>{'uid': '3667788497.jpg#0r1e', 'premise': 'Und...</td>\n",
              "      <td>e</td>\n",
              "      <td>[entailment, neutral, entailment, neutral, ent...</td>\n",
              "    </tr>\n",
              "  </tbody>\n",
              "</table>\n",
              "</div>\n",
              "      <button class=\"colab-df-convert\" onclick=\"convertToInteractive('df-7ffe9acc-f8fc-4d97-877f-5fa7828fc1eb')\"\n",
              "              title=\"Convert this dataframe to an interactive table.\"\n",
              "              style=\"display:none;\">\n",
              "        \n",
              "  <svg xmlns=\"http://www.w3.org/2000/svg\" height=\"24px\"viewBox=\"0 0 24 24\"\n",
              "       width=\"24px\">\n",
              "    <path d=\"M0 0h24v24H0V0z\" fill=\"none\"/>\n",
              "    <path d=\"M18.56 5.44l.94 2.06.94-2.06 2.06-.94-2.06-.94-.94-2.06-.94 2.06-2.06.94zm-11 1L8.5 8.5l.94-2.06 2.06-.94-2.06-.94L8.5 2.5l-.94 2.06-2.06.94zm10 10l.94 2.06.94-2.06 2.06-.94-2.06-.94-.94-2.06-.94 2.06-2.06.94z\"/><path d=\"M17.41 7.96l-1.37-1.37c-.4-.4-.92-.59-1.43-.59-.52 0-1.04.2-1.43.59L10.3 9.45l-7.72 7.72c-.78.78-.78 2.05 0 2.83L4 21.41c.39.39.9.59 1.41.59.51 0 1.02-.2 1.41-.59l7.78-7.78 2.81-2.81c.8-.78.8-2.07 0-2.86zM5.41 20L4 18.59l7.72-7.72 1.47 1.35L5.41 20z\"/>\n",
              "  </svg>\n",
              "      </button>\n",
              "      \n",
              "  <style>\n",
              "    .colab-df-container {\n",
              "      display:flex;\n",
              "      flex-wrap:wrap;\n",
              "      gap: 12px;\n",
              "    }\n",
              "\n",
              "    .colab-df-convert {\n",
              "      background-color: #E8F0FE;\n",
              "      border: none;\n",
              "      border-radius: 50%;\n",
              "      cursor: pointer;\n",
              "      display: none;\n",
              "      fill: #1967D2;\n",
              "      height: 32px;\n",
              "      padding: 0 0 0 0;\n",
              "      width: 32px;\n",
              "    }\n",
              "\n",
              "    .colab-df-convert:hover {\n",
              "      background-color: #E2EBFA;\n",
              "      box-shadow: 0px 1px 2px rgba(60, 64, 67, 0.3), 0px 1px 3px 1px rgba(60, 64, 67, 0.15);\n",
              "      fill: #174EA6;\n",
              "    }\n",
              "\n",
              "    [theme=dark] .colab-df-convert {\n",
              "      background-color: #3B4455;\n",
              "      fill: #D2E3FC;\n",
              "    }\n",
              "\n",
              "    [theme=dark] .colab-df-convert:hover {\n",
              "      background-color: #434B5C;\n",
              "      box-shadow: 0px 1px 3px 1px rgba(0, 0, 0, 0.15);\n",
              "      filter: drop-shadow(0px 1px 2px rgba(0, 0, 0, 0.3));\n",
              "      fill: #FFFFFF;\n",
              "    }\n",
              "  </style>\n",
              "\n",
              "      <script>\n",
              "        const buttonEl =\n",
              "          document.querySelector('#df-7ffe9acc-f8fc-4d97-877f-5fa7828fc1eb button.colab-df-convert');\n",
              "        buttonEl.style.display =\n",
              "          google.colab.kernel.accessAllowed ? 'block' : 'none';\n",
              "\n",
              "        async function convertToInteractive(key) {\n",
              "          const element = document.querySelector('#df-7ffe9acc-f8fc-4d97-877f-5fa7828fc1eb');\n",
              "          const dataTable =\n",
              "            await google.colab.kernel.invokeFunction('convertToInteractive',\n",
              "                                                     [key], {});\n",
              "          if (!dataTable) return;\n",
              "\n",
              "          const docLinkHtml = 'Like what you see? Visit the ' +\n",
              "            '<a target=\"_blank\" href=https://colab.research.google.com/notebooks/data_table.ipynb>data table notebook</a>'\n",
              "            + ' to learn more about interactive tables.';\n",
              "          element.innerHTML = '';\n",
              "          dataTable['output_type'] = 'display_data';\n",
              "          await google.colab.output.renderOutput(dataTable, element);\n",
              "          const docLink = document.createElement('div');\n",
              "          docLink.innerHTML = docLinkHtml;\n",
              "          element.appendChild(docLink);\n",
              "        }\n",
              "      </script>\n",
              "    </div>\n",
              "  </div>\n",
              "  "
            ]
          },
          "metadata": {},
          "execution_count": 23
        }
      ]
    },
    {
      "cell_type": "code",
      "source": [
        "def extractSingleAnntotations(df, n_annotators=100):\n",
        "  # n = 1, e = 2, c = 3\n",
        "  N = len(df)\n",
        "  label_counts = df['label_counter']\n",
        "\n",
        "  answer_dist = [{'n':0, 'e':0, 'c':0} for _ in range(N)]\n",
        "  #annotations = [np.empty((n_annotators, 1)) for _ in range(N)]\n",
        "  annotations = []\n",
        "  for i in range(N):\n",
        "    answer_dist[i]['n'] = label_counts[i]['n'] if 'n' in list(label_counts[i].keys()) else 0\n",
        "    answer_dist[i]['e'] = label_counts[i]['e'] if 'e' in list(label_counts[i].keys()) else 0\n",
        "    answer_dist[i]['c'] = label_counts[i]['c'] if 'c' in list(label_counts[i].keys()) else 0\n",
        "    # baseline annotations method...\n",
        "    annotations.append(np.expand_dims(np.repeat([1,2,3], [answer_dist[i]['n'], answer_dist[i]['e'], answer_dist[i]['c']]), axis=0))\n",
        "  \n",
        "  new_df = df[['example', 'entropy']].copy()\n",
        "  new_df['answer_dist'] = answer_dist\n",
        "  new_df['annotations'] = annotations\n",
        "  return new_df\n",
        "\n",
        "\n",
        "  \n",
        "  \n",
        "  "
      ],
      "metadata": {
        "id": "Yu9wLLcelgFt"
      },
      "execution_count": null,
      "outputs": []
    },
    {
      "cell_type": "code",
      "source": [
        "label_counts = chaosSNLI['label_counter']\n",
        "answer_dist = [{'n':0, 'e':0, 'c':0} for _ in range(len(label_counts))]\n",
        "for i in range(len(label_counts)):\n",
        "  answer_dist[i]['n'] = label_counts[i]['n'] if 'n' in list(label_counts[i].keys()) else 0\n",
        "  answer_dist[i]['e'] = label_counts[i]['e'] if 'e' in list(label_counts[i].keys()) else 0\n",
        "  answer_dist[i]['c'] = label_counts[i]['c'] if 'c' in list(label_counts[i].keys()) else 0"
      ],
      "metadata": {
        "id": "_Q_NhuNtnRzw"
      },
      "execution_count": null,
      "outputs": []
    },
    {
      "cell_type": "code",
      "source": [
        "df_s = extractSingleAnntotations(chaosSNLI) \n",
        "df_s.head()"
      ],
      "metadata": {
        "colab": {
          "base_uri": "https://localhost:8080/",
          "height": 206
        },
        "id": "-A1A5knynUBM",
        "outputId": "54d8a34e-1d62-4099-e650-46499e87915c"
      },
      "execution_count": null,
      "outputs": [
        {
          "output_type": "execute_result",
          "data": {
            "text/plain": [
              "                                             example   entropy  \\\n",
              "0  {'uid': '2407214681.jpg#0r1n', 'premise': 'Two...  0.881291   \n",
              "1  {'uid': '4718146904.jpg#2r1n', 'premise': 'A m...  0.387445   \n",
              "2  {'uid': '3980085662.jpg#0r1e', 'premise': 'Two...  0.141441   \n",
              "3  {'uid': '24467676.jpg#1r1e', 'premise': 'A man...  0.141441   \n",
              "4  {'uid': '3667788497.jpg#0r1e', 'premise': 'Und...  0.000000   \n",
              "\n",
              "                  answer_dist  \\\n",
              "0  {'n': 70, 'e': 30, 'c': 0}   \n",
              "1   {'n': 94, 'e': 3, 'c': 3}   \n",
              "2   {'n': 2, 'e': 98, 'c': 0}   \n",
              "3   {'n': 0, 'e': 98, 'c': 2}   \n",
              "4  {'n': 0, 'e': 100, 'c': 0}   \n",
              "\n",
              "                                         annotations  \n",
              "0  [[1, 1, 1, 1, 1, 1, 1, 1, 1, 1, 1, 1, 1, 1, 1,...  \n",
              "1  [[1, 1, 1, 1, 1, 1, 1, 1, 1, 1, 1, 1, 1, 1, 1,...  \n",
              "2  [[1, 1, 2, 2, 2, 2, 2, 2, 2, 2, 2, 2, 2, 2, 2,...  \n",
              "3  [[2, 2, 2, 2, 2, 2, 2, 2, 2, 2, 2, 2, 2, 2, 2,...  \n",
              "4  [[2, 2, 2, 2, 2, 2, 2, 2, 2, 2, 2, 2, 2, 2, 2,...  "
            ],
            "text/html": [
              "\n",
              "  <div id=\"df-f2332ea3-41ff-46b4-80e1-da3bd622fc34\">\n",
              "    <div class=\"colab-df-container\">\n",
              "      <div>\n",
              "<style scoped>\n",
              "    .dataframe tbody tr th:only-of-type {\n",
              "        vertical-align: middle;\n",
              "    }\n",
              "\n",
              "    .dataframe tbody tr th {\n",
              "        vertical-align: top;\n",
              "    }\n",
              "\n",
              "    .dataframe thead th {\n",
              "        text-align: right;\n",
              "    }\n",
              "</style>\n",
              "<table border=\"1\" class=\"dataframe\">\n",
              "  <thead>\n",
              "    <tr style=\"text-align: right;\">\n",
              "      <th></th>\n",
              "      <th>example</th>\n",
              "      <th>entropy</th>\n",
              "      <th>answer_dist</th>\n",
              "      <th>annotations</th>\n",
              "    </tr>\n",
              "  </thead>\n",
              "  <tbody>\n",
              "    <tr>\n",
              "      <th>0</th>\n",
              "      <td>{'uid': '2407214681.jpg#0r1n', 'premise': 'Two...</td>\n",
              "      <td>0.881291</td>\n",
              "      <td>{'n': 70, 'e': 30, 'c': 0}</td>\n",
              "      <td>[[1, 1, 1, 1, 1, 1, 1, 1, 1, 1, 1, 1, 1, 1, 1,...</td>\n",
              "    </tr>\n",
              "    <tr>\n",
              "      <th>1</th>\n",
              "      <td>{'uid': '4718146904.jpg#2r1n', 'premise': 'A m...</td>\n",
              "      <td>0.387445</td>\n",
              "      <td>{'n': 94, 'e': 3, 'c': 3}</td>\n",
              "      <td>[[1, 1, 1, 1, 1, 1, 1, 1, 1, 1, 1, 1, 1, 1, 1,...</td>\n",
              "    </tr>\n",
              "    <tr>\n",
              "      <th>2</th>\n",
              "      <td>{'uid': '3980085662.jpg#0r1e', 'premise': 'Two...</td>\n",
              "      <td>0.141441</td>\n",
              "      <td>{'n': 2, 'e': 98, 'c': 0}</td>\n",
              "      <td>[[1, 1, 2, 2, 2, 2, 2, 2, 2, 2, 2, 2, 2, 2, 2,...</td>\n",
              "    </tr>\n",
              "    <tr>\n",
              "      <th>3</th>\n",
              "      <td>{'uid': '24467676.jpg#1r1e', 'premise': 'A man...</td>\n",
              "      <td>0.141441</td>\n",
              "      <td>{'n': 0, 'e': 98, 'c': 2}</td>\n",
              "      <td>[[2, 2, 2, 2, 2, 2, 2, 2, 2, 2, 2, 2, 2, 2, 2,...</td>\n",
              "    </tr>\n",
              "    <tr>\n",
              "      <th>4</th>\n",
              "      <td>{'uid': '3667788497.jpg#0r1e', 'premise': 'Und...</td>\n",
              "      <td>0.000000</td>\n",
              "      <td>{'n': 0, 'e': 100, 'c': 0}</td>\n",
              "      <td>[[2, 2, 2, 2, 2, 2, 2, 2, 2, 2, 2, 2, 2, 2, 2,...</td>\n",
              "    </tr>\n",
              "  </tbody>\n",
              "</table>\n",
              "</div>\n",
              "      <button class=\"colab-df-convert\" onclick=\"convertToInteractive('df-f2332ea3-41ff-46b4-80e1-da3bd622fc34')\"\n",
              "              title=\"Convert this dataframe to an interactive table.\"\n",
              "              style=\"display:none;\">\n",
              "        \n",
              "  <svg xmlns=\"http://www.w3.org/2000/svg\" height=\"24px\"viewBox=\"0 0 24 24\"\n",
              "       width=\"24px\">\n",
              "    <path d=\"M0 0h24v24H0V0z\" fill=\"none\"/>\n",
              "    <path d=\"M18.56 5.44l.94 2.06.94-2.06 2.06-.94-2.06-.94-.94-2.06-.94 2.06-2.06.94zm-11 1L8.5 8.5l.94-2.06 2.06-.94-2.06-.94L8.5 2.5l-.94 2.06-2.06.94zm10 10l.94 2.06.94-2.06 2.06-.94-2.06-.94-.94-2.06-.94 2.06-2.06.94z\"/><path d=\"M17.41 7.96l-1.37-1.37c-.4-.4-.92-.59-1.43-.59-.52 0-1.04.2-1.43.59L10.3 9.45l-7.72 7.72c-.78.78-.78 2.05 0 2.83L4 21.41c.39.39.9.59 1.41.59.51 0 1.02-.2 1.41-.59l7.78-7.78 2.81-2.81c.8-.78.8-2.07 0-2.86zM5.41 20L4 18.59l7.72-7.72 1.47 1.35L5.41 20z\"/>\n",
              "  </svg>\n",
              "      </button>\n",
              "      \n",
              "  <style>\n",
              "    .colab-df-container {\n",
              "      display:flex;\n",
              "      flex-wrap:wrap;\n",
              "      gap: 12px;\n",
              "    }\n",
              "\n",
              "    .colab-df-convert {\n",
              "      background-color: #E8F0FE;\n",
              "      border: none;\n",
              "      border-radius: 50%;\n",
              "      cursor: pointer;\n",
              "      display: none;\n",
              "      fill: #1967D2;\n",
              "      height: 32px;\n",
              "      padding: 0 0 0 0;\n",
              "      width: 32px;\n",
              "    }\n",
              "\n",
              "    .colab-df-convert:hover {\n",
              "      background-color: #E2EBFA;\n",
              "      box-shadow: 0px 1px 2px rgba(60, 64, 67, 0.3), 0px 1px 3px 1px rgba(60, 64, 67, 0.15);\n",
              "      fill: #174EA6;\n",
              "    }\n",
              "\n",
              "    [theme=dark] .colab-df-convert {\n",
              "      background-color: #3B4455;\n",
              "      fill: #D2E3FC;\n",
              "    }\n",
              "\n",
              "    [theme=dark] .colab-df-convert:hover {\n",
              "      background-color: #434B5C;\n",
              "      box-shadow: 0px 1px 3px 1px rgba(0, 0, 0, 0.15);\n",
              "      filter: drop-shadow(0px 1px 2px rgba(0, 0, 0, 0.3));\n",
              "      fill: #FFFFFF;\n",
              "    }\n",
              "  </style>\n",
              "\n",
              "      <script>\n",
              "        const buttonEl =\n",
              "          document.querySelector('#df-f2332ea3-41ff-46b4-80e1-da3bd622fc34 button.colab-df-convert');\n",
              "        buttonEl.style.display =\n",
              "          google.colab.kernel.accessAllowed ? 'block' : 'none';\n",
              "\n",
              "        async function convertToInteractive(key) {\n",
              "          const element = document.querySelector('#df-f2332ea3-41ff-46b4-80e1-da3bd622fc34');\n",
              "          const dataTable =\n",
              "            await google.colab.kernel.invokeFunction('convertToInteractive',\n",
              "                                                     [key], {});\n",
              "          if (!dataTable) return;\n",
              "\n",
              "          const docLinkHtml = 'Like what you see? Visit the ' +\n",
              "            '<a target=\"_blank\" href=https://colab.research.google.com/notebooks/data_table.ipynb>data table notebook</a>'\n",
              "            + ' to learn more about interactive tables.';\n",
              "          element.innerHTML = '';\n",
              "          dataTable['output_type'] = 'display_data';\n",
              "          await google.colab.output.renderOutput(dataTable, element);\n",
              "          const docLink = document.createElement('div');\n",
              "          docLink.innerHTML = docLinkHtml;\n",
              "          element.appendChild(docLink);\n",
              "        }\n",
              "      </script>\n",
              "    </div>\n",
              "  </div>\n",
              "  "
            ]
          },
          "metadata": {},
          "execution_count": 87
        }
      ]
    },
    {
      "cell_type": "code",
      "source": [
        "RBOAA = _RBOAA()\n",
        "#df_s['annotations'][0].shape\n",
        "res = RBOAA._compute_archetypes(X=df_s['annotations'][0], K=3, n_iter=1000, lr=0.01, mute=False, columns=['Q1'])"
      ],
      "metadata": {
        "colab": {
          "base_uri": "https://localhost:8080/"
        },
        "id": "iqhJDPonqRNQ",
        "outputId": "228aa20e-8094-4724-9f3d-68fa435099c1"
      },
      "execution_count": null,
      "outputs": [
        {
          "output_type": "stream",
          "name": "stdout",
          "text": [
            "\n",
            "Response Bias Ordinal Arhcetypal Analysis in progress...\n",
            "Finished Successfully after 2.9 seconds!                               \n",
            "\n",
            "/////////////// INFORMATION ABOUT ORDINAL ARCHETYPAL ANALYSIS \\\\\\\\\\\\\\\\\\\\\\\\\\\\\\\\\n",
            "▣ The Ordinal Archetypal Analysis was computed using 3 archetypes.\n",
            "▣ The Ordinal Archetypal Analysis was computed on 1 attributes.\n",
            "▣ The Ordinal Archetypal Analysis was computed on 100 subjects.\n",
            "▣ The Ordinal Archetypal Analysis ran for 1000 itterations.\n",
            "▣ The Ordinal Archetypal Analysis took 2.87 seconds to complete.\n",
            "▣ The final loss was: 0.006264656316488981.\n"
          ]
        }
      ]
    },
    {
      "cell_type": "code",
      "source": [
        "res.Z.shape\n",
        "res.A.shape"
      ],
      "metadata": {
        "colab": {
          "base_uri": "https://localhost:8080/",
          "height": 183
        },
        "id": "hqlq7R2mzr2J",
        "outputId": "ff7c4e6e-7cf9-452d-ad85-00e0c59f0d18"
      },
      "execution_count": null,
      "outputs": [
        {
          "output_type": "error",
          "ename": "NameError",
          "evalue": "ignored",
          "traceback": [
            "\u001b[0;31m---------------------------------------------------------------------------\u001b[0m",
            "\u001b[0;31mNameError\u001b[0m                                 Traceback (most recent call last)",
            "\u001b[0;32m<ipython-input-1-7a0af48e471f>\u001b[0m in \u001b[0;36m<module>\u001b[0;34m\u001b[0m\n\u001b[0;32m----> 1\u001b[0;31m \u001b[0mres\u001b[0m\u001b[0;34m.\u001b[0m\u001b[0mZ\u001b[0m\u001b[0;34m.\u001b[0m\u001b[0mshape\u001b[0m\u001b[0;34m\u001b[0m\u001b[0;34m\u001b[0m\u001b[0m\n\u001b[0m\u001b[1;32m      2\u001b[0m \u001b[0mres\u001b[0m\u001b[0;34m.\u001b[0m\u001b[0mA\u001b[0m\u001b[0;34m.\u001b[0m\u001b[0mshape\u001b[0m\u001b[0;34m\u001b[0m\u001b[0;34m\u001b[0m\u001b[0m\n",
            "\u001b[0;31mNameError\u001b[0m: name 'res' is not defined"
          ]
        }
      ]
    },
    {
      "cell_type": "markdown",
      "source": [
        "## Problems/questions\n",
        "\n",
        "* We have no way of knowing the actual answers amongst respondents → How do we deal with this? \n",
        "* Using archetypal analysis might just loose information from the existing dataset... \n",
        "* How can we optimally use the information gathered by AA?\n",
        "\n",
        "* Pivot? → Cluster groups of people based on their closest  archetype across examples?\n",
        "\n",
        "\n",
        "## Appropriate datasets:\n",
        "https://github.com/epavlick/NLI-variation-data/tree/master/context-analysis/raw\n",
        "\n",
        "https://direct.mit.edu/tacl/article/doi/10.1162/tacl_a_00293/43531/Inherent-Disagreements-in-Human-Textual-Inferences?fbclid=IwAR0KokaN1zCGAl1x9Z3BhWCFaSL04WSs2eINdwqlvuz9lZd2tuKiLset61M\n",
        "\n",
        "\n",
        "* UNLI dataset (Chen et al., 2020) only has two annotators (maybe 3) per example\n"
      ],
      "metadata": {
        "id": "TvVoiQDLsdpr"
      }
    },
    {
      "cell_type": "code",
      "source": [
        "def entropy(a):\n",
        "  return -sum([e*np.log(e) for e in a])\n",
        "\n",
        "# A = archetype weighting matrix, n_subjects = how many subjects should be considered\n",
        "def get_gold_answer(df, A, n_subjects):\n",
        "  entropies = [entropy(a) for a in res.A.T]\n",
        "  candidates = []\n",
        "  for i in range(n_subjects):\n",
        "    s = np.argmax(entropies)\n",
        "    # i is added to account for the entropies list getting shorter\n",
        "    candidates.append(s+i)\n",
        "    entropies.pop(s)\n",
        "\n",
        "\n",
        "  answers = [df['annotations'][candidates[i]] for i in range(n_subjects)]\n",
        "\n",
        "  return candidates\n",
        "\n",
        "\n",
        "  \n",
        "ans = get_gold_answer(df_s, res.A, 10)\n",
        "\n",
        "  \n",
        "\n",
        "subject = np.argmax([entropy(a) for a in res.A.T])\n"
      ],
      "metadata": {
        "id": "UhiFxvlaq5lj",
        "colab": {
          "base_uri": "https://localhost:8080/",
          "height": 235
        },
        "outputId": "435ed366-3f11-4969-c6e5-73f15704afcc"
      },
      "execution_count": null,
      "outputs": [
        {
          "output_type": "error",
          "ename": "NameError",
          "evalue": "ignored",
          "traceback": [
            "\u001b[0;31m---------------------------------------------------------------------------\u001b[0m",
            "\u001b[0;31mNameError\u001b[0m                                 Traceback (most recent call last)",
            "\u001b[0;32m<ipython-input-68-c69b8112018b>\u001b[0m in \u001b[0;36m<module>\u001b[0;34m\u001b[0m\n\u001b[1;32m     19\u001b[0m \u001b[0;34m\u001b[0m\u001b[0m\n\u001b[1;32m     20\u001b[0m \u001b[0;34m\u001b[0m\u001b[0m\n\u001b[0;32m---> 21\u001b[0;31m \u001b[0mans\u001b[0m \u001b[0;34m=\u001b[0m \u001b[0mget_gold_answer\u001b[0m\u001b[0;34m(\u001b[0m\u001b[0mdf_s\u001b[0m\u001b[0;34m,\u001b[0m \u001b[0mres\u001b[0m\u001b[0;34m.\u001b[0m\u001b[0mA\u001b[0m\u001b[0;34m,\u001b[0m \u001b[0;36m10\u001b[0m\u001b[0;34m)\u001b[0m\u001b[0;34m\u001b[0m\u001b[0;34m\u001b[0m\u001b[0m\n\u001b[0m\u001b[1;32m     22\u001b[0m \u001b[0;34m\u001b[0m\u001b[0m\n\u001b[1;32m     23\u001b[0m \u001b[0;34m\u001b[0m\u001b[0m\n",
            "\u001b[0;31mNameError\u001b[0m: name 'df_s' is not defined"
          ]
        }
      ]
    },
    {
      "cell_type": "code",
      "source": [
        "df_s['annotations'][0][0][0]\n",
        "ans"
      ],
      "metadata": {
        "colab": {
          "base_uri": "https://localhost:8080/"
        },
        "id": "Kkd2tDG4C0l-",
        "outputId": "d7bcd1dd-5de3-4637-e844-150bcc56607d"
      },
      "execution_count": null,
      "outputs": [
        {
          "output_type": "execute_result",
          "data": {
            "text/plain": [
              "[89, 91, 95, 87, 79, 44, 82, 37, 89, 27]"
            ]
          },
          "metadata": {},
          "execution_count": 131
        }
      ]
    },
    {
      "cell_type": "markdown",
      "source": [
        "# $\\textbf{NLI-variation dataset}$"
      ],
      "metadata": {
        "id": "inxrSL114Ubt"
      }
    },
    {
      "cell_type": "code",
      "source": [
        "NLIcontext = pd.read_json(path_or_buf='/content/drive/MyDrive/Uncertainty NLI/data/NLI-variation-data/context-analysis/preprocessed-context-data.jsonl', lines=True)\n",
        "NLIsent = pd.read_json(path_or_buf='/content/drive/MyDrive/Uncertainty NLI/data/NLI-variation-data/sentence-pair-analysis/preprocessed-data.jsonl', lines=True)"
      ],
      "metadata": {
        "id": "KC1O84LcDToS"
      },
      "execution_count": null,
      "outputs": []
    },
    {
      "cell_type": "code",
      "source": [
        "print(NLIsent['premise'][0])\n",
        "print(NLIsent['hypothesis'][0])\n",
        "print(NLIsent['labels'][0])"
      ],
      "metadata": {
        "colab": {
          "base_uri": "https://localhost:8080/"
        },
        "id": "-9_oxYGb_uzd",
        "outputId": "5bdb5f19-90a3-4d19-91b8-786fc448d6a8"
      },
      "execution_count": null,
      "outputs": [
        {
          "output_type": "stream",
          "name": "stdout",
          "text": [
            "What are they doing right that I did wrong? Maybe my mistake really was just a freak accident.\n",
            "It is possible I was just a freak accident.\n",
            "[49.999903547520425, -49.99995111441214, -49.9999262535316, -50.00002216690942, -49.99997016358147, 2.9743475205649e-05, -49.99991864902569, 50.000005487734626, 50.00007020674138, -37.999962284357004, 9.935426996016205e-05, -50.00001821982882, 23.000030071125416, 7.6247720714058375e-06, 50.00005718658829, -50.000053039841006, -49.99992127683262, -28.99996378762132, -46.00002935867597, 3.000081755211809, -49.999960995140164, -50.00005181855073, -28.000016451461523, 49.99999400284343, 2.7224880593486224e-05, 49.99998363923796, -50.00009330891493, 50.00009220806719, 23.999995182149863, -50.00009794576143, -34.000077596372115, -49.999965118989365, 50.00007936875679, -46.99994782046449, -49.99994262522547, -49.99992367330478, -49.999939137711976, -18.000055500136305, 14.999944639674295, -50.000014394180795, 4.9999653087219045, -50.00007802552399, -47.99993068563359, 29.999973389489604]\n"
          ]
        }
      ]
    },
    {
      "cell_type": "code",
      "source": [
        "context_raw1 = pd.read_csv('/content/drive/MyDrive/Uncertainty NLI/data/NLI-variation-data/context-analysis/raw/batch1.csv')\n",
        "sent_raw1 = pd.read_csv('/content/drive/MyDrive/Uncertainty NLI/data/NLI-variation-data/sentence-pair-analysis/raw/batch1.csv')\n",
        "sent_raw2 = pd.read_csv('/content/drive/MyDrive/Uncertainty NLI/data/NLI-variation-data/sentence-pair-analysis/raw/batch2.csv')\n",
        "sent_raw3 = pd.read_csv('/content/drive/MyDrive/Uncertainty NLI/data/NLI-variation-data/sentence-pair-analysis/raw/batch3.csv')\n",
        "attributeNames = list(context_raw1.columns)\n",
        "attributeNames[:30]"
      ],
      "metadata": {
        "colab": {
          "base_uri": "https://localhost:8080/"
        },
        "id": "J7oYHzP7-1Kz",
        "outputId": "56a16937-2428-446b-a4ff-312e7facd04c"
      },
      "execution_count": null,
      "outputs": [
        {
          "output_type": "execute_result",
          "data": {
            "text/plain": [
              "['HITId',\n",
              " 'HITTypeId',\n",
              " 'Title',\n",
              " 'Description',\n",
              " 'Keywords',\n",
              " 'Reward',\n",
              " 'CreationTime',\n",
              " 'MaxAssignments',\n",
              " 'RequesterAnnotation',\n",
              " 'AssignmentDurationInSeconds',\n",
              " 'AutoApprovalDelayInSeconds',\n",
              " 'Expiration',\n",
              " 'NumberOfSimilarHITs',\n",
              " 'LifetimeInSeconds',\n",
              " 'AssignmentId',\n",
              " 'WorkerId',\n",
              " 'AssignmentStatus',\n",
              " 'AcceptTime',\n",
              " 'SubmitTime',\n",
              " 'AutoApprovalTime',\n",
              " 'ApprovalTime',\n",
              " 'RejectionTime',\n",
              " 'RequesterFeedback',\n",
              " 'WorkTimeInSeconds',\n",
              " 'LifetimeApprovalRate',\n",
              " 'Last30DaysApprovalRate',\n",
              " 'Last7DaysApprovalRate',\n",
              " 'Input.task_name_0',\n",
              " 'Input.pair_id_0',\n",
              " 'Input.label_0']"
            ]
          },
          "metadata": {},
          "execution_count": 90
        }
      ]
    },
    {
      "cell_type": "code",
      "source": [
        "\n",
        "questions = list(pd.concat([context_raw1['HITId'], sent_raw1['HITId'], sent_raw2['HITId'], sent_raw3['HITId']]))\n",
        "workers = list(pd.concat([context_raw1['WorkerId'], sent_raw1['WorkerId'], sent_raw2['WorkerId'], sent_raw3['WorkerId']], ignore_index=True))\n",
        "\n",
        "n_workers = len(workers)\n",
        "n_unique = len(set(workers))\n",
        "n_questions = len(set(questions))\n",
        "\n",
        "print(f'total workers: {n_workers}')\n",
        "print(f'unique workers: {n_unique}')\n",
        "print(f'unique questions: {n_questions}')\n"
      ],
      "metadata": {
        "colab": {
          "base_uri": "https://localhost:8080/"
        },
        "id": "HUB1gtM6BnEI",
        "outputId": "e18bd503-9c95-46d7-b367-2d5c70411e16"
      },
      "execution_count": null,
      "outputs": [
        {
          "output_type": "stream",
          "name": "stdout",
          "text": [
            "total workers: 2361\n",
            "unique workers: 829\n",
            "unique questions: 71\n"
          ]
        },
        {
          "output_type": "execute_result",
          "data": {
            "text/plain": [
              "33.25352112676056"
            ]
          },
          "metadata": {},
          "execution_count": 77
        }
      ]
    },
    {
      "cell_type": "code",
      "source": [
        "N = len(context_raw1)\n",
        "\n",
        "ws = list(context_raw1['WorkerId'])\n",
        "qs = list(context_raw1['HITId'])\n",
        "\n",
        "comb = context_raw1[['HITId', 'WorkerId']]\n",
        "\n",
        "\n",
        "\n",
        "print(f\"workers per question, context: {len(context_raw1['WorkerId'])/len(set(context_raw1['HITId']))} \")\n",
        "\n",
        "print(f\"workers per question, sent1: {len(set(sent_raw1['WorkerId']))/len(set(sent_raw1['HITId']))} \")\n",
        "print(f\"workers per question, sent2: {len(set(sent_raw2['WorkerId']))/len(set(sent_raw2['HITId']))} \")\n",
        "print(f\"workers per question, sent3: {len(set(sent_raw3['WorkerId']))/len(set(sent_raw3['HITId']))} \")"
      ],
      "metadata": {
        "colab": {
          "base_uri": "https://localhost:8080/"
        },
        "id": "mYfNNJRDJi6V",
        "outputId": "44987745-3cf9-46b0-ccc6-507e812e5cea"
      },
      "execution_count": null,
      "outputs": [
        {
          "output_type": "stream",
          "name": "stdout",
          "text": [
            "workers per question, context: 50.0 \n",
            "workers per question, sent1: 11.833333333333334 \n",
            "workers per question, sent2: 7.526315789473684 \n",
            "workers per question, sent3: 12.28 \n"
          ]
        }
      ]
    },
    {
      "cell_type": "code",
      "source": [
        "set(sent_raw1['HITId'])\n"
      ],
      "metadata": {
        "id": "AT18MeS7J3QP",
        "colab": {
          "base_uri": "https://localhost:8080/"
        },
        "outputId": "4c1246bf-44f5-47ab-f7a0-a1c1bdd2404c"
      },
      "execution_count": null,
      "outputs": [
        {
          "output_type": "execute_result",
          "data": {
            "text/plain": [
              "{'3D42WVSDH7U04HX7IZ3X5OTSDU8YFV',\n",
              " '3EKTG13IZT2MASIPL7IK66B51GGLMX',\n",
              " '3HXCEECSQLS69YO7JBX48G9APZ2ZYK',\n",
              " '3MYASTQBG6AUXVSP0JRD42N528BQD9',\n",
              " '3N2YPY1GI5XRU926IDW7G74YJCRVE1',\n",
              " '3ZFRE2BDQ8DH9TYXEFB2P221NT8ZXE'}"
            ]
          },
          "metadata": {},
          "execution_count": 91
        }
      ]
    },
    {
      "cell_type": "code",
      "source": [],
      "metadata": {
        "id": "wscHHXSX7Df3"
      },
      "execution_count": null,
      "outputs": []
    }
  ]
}